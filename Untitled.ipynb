{
 "cells": [
  {
   "cell_type": "code",
   "execution_count": 8,
   "metadata": {},
   "outputs": [],
   "source": [
    "import pandas as pd"
   ]
  },
  {
   "cell_type": "code",
   "execution_count": 9,
   "metadata": {},
   "outputs": [
    {
     "data": {
      "text/html": [
       "<div>\n",
       "<style scoped>\n",
       "    .dataframe tbody tr th:only-of-type {\n",
       "        vertical-align: middle;\n",
       "    }\n",
       "\n",
       "    .dataframe tbody tr th {\n",
       "        vertical-align: top;\n",
       "    }\n",
       "\n",
       "    .dataframe thead th {\n",
       "        text-align: right;\n",
       "    }\n",
       "</style>\n",
       "<table border=\"1\" class=\"dataframe\">\n",
       "  <thead>\n",
       "    <tr style=\"text-align: right;\">\n",
       "      <th></th>\n",
       "      <th>last_update</th>\n",
       "      <th>location_type</th>\n",
       "      <th>state</th>\n",
       "      <th>county_name</th>\n",
       "      <th>county_name_long</th>\n",
       "      <th>fips_code</th>\n",
       "      <th>lat</th>\n",
       "      <th>lon</th>\n",
       "      <th>NCHS_urbanization</th>\n",
       "      <th>total_population</th>\n",
       "      <th>confirmed</th>\n",
       "      <th>confirmed_per_100000</th>\n",
       "      <th>deaths</th>\n",
       "      <th>deaths_per_100000</th>\n",
       "    </tr>\n",
       "  </thead>\n",
       "  <tbody>\n",
       "    <tr>\n",
       "      <th>0</th>\n",
       "      <td>2020-09-23 23:23:49 UTC</td>\n",
       "      <td>county</td>\n",
       "      <td>Alabama</td>\n",
       "      <td>Autauga</td>\n",
       "      <td>Autauga, Alabama, US</td>\n",
       "      <td>1001.0</td>\n",
       "      <td>32.539527</td>\n",
       "      <td>-86.644082</td>\n",
       "      <td>Medium metro</td>\n",
       "      <td>55200.0</td>\n",
       "      <td>1715</td>\n",
       "      <td>3106.88</td>\n",
       "      <td>25</td>\n",
       "      <td>45.29</td>\n",
       "    </tr>\n",
       "    <tr>\n",
       "      <th>1</th>\n",
       "      <td>2020-09-23 23:23:49 UTC</td>\n",
       "      <td>county</td>\n",
       "      <td>Alabama</td>\n",
       "      <td>Baldwin</td>\n",
       "      <td>Baldwin, Alabama, US</td>\n",
       "      <td>1003.0</td>\n",
       "      <td>30.727750</td>\n",
       "      <td>-87.722071</td>\n",
       "      <td>Small metro</td>\n",
       "      <td>208107.0</td>\n",
       "      <td>5141</td>\n",
       "      <td>2470.36</td>\n",
       "      <td>49</td>\n",
       "      <td>23.55</td>\n",
       "    </tr>\n",
       "    <tr>\n",
       "      <th>2</th>\n",
       "      <td>2020-09-23 23:23:49 UTC</td>\n",
       "      <td>county</td>\n",
       "      <td>Alabama</td>\n",
       "      <td>Barbour</td>\n",
       "      <td>Barbour, Alabama, US</td>\n",
       "      <td>1005.0</td>\n",
       "      <td>31.868263</td>\n",
       "      <td>-85.387129</td>\n",
       "      <td>Non-core</td>\n",
       "      <td>25782.0</td>\n",
       "      <td>851</td>\n",
       "      <td>3300.75</td>\n",
       "      <td>7</td>\n",
       "      <td>27.15</td>\n",
       "    </tr>\n",
       "    <tr>\n",
       "      <th>3</th>\n",
       "      <td>2020-09-23 23:23:49 UTC</td>\n",
       "      <td>county</td>\n",
       "      <td>Alabama</td>\n",
       "      <td>Bibb</td>\n",
       "      <td>Bibb, Alabama, US</td>\n",
       "      <td>1007.0</td>\n",
       "      <td>32.996421</td>\n",
       "      <td>-87.125115</td>\n",
       "      <td>Large fringe metro</td>\n",
       "      <td>22527.0</td>\n",
       "      <td>638</td>\n",
       "      <td>2832.16</td>\n",
       "      <td>10</td>\n",
       "      <td>44.39</td>\n",
       "    </tr>\n",
       "    <tr>\n",
       "      <th>4</th>\n",
       "      <td>2020-09-23 23:23:49 UTC</td>\n",
       "      <td>county</td>\n",
       "      <td>Alabama</td>\n",
       "      <td>Blount</td>\n",
       "      <td>Blount, Alabama, US</td>\n",
       "      <td>1009.0</td>\n",
       "      <td>33.982109</td>\n",
       "      <td>-86.567906</td>\n",
       "      <td>Large fringe metro</td>\n",
       "      <td>57645.0</td>\n",
       "      <td>1580</td>\n",
       "      <td>2740.91</td>\n",
       "      <td>15</td>\n",
       "      <td>26.02</td>\n",
       "    </tr>\n",
       "  </tbody>\n",
       "</table>\n",
       "</div>"
      ],
      "text/plain": [
       "               last_update location_type    state county_name  \\\n",
       "0  2020-09-23 23:23:49 UTC        county  Alabama     Autauga   \n",
       "1  2020-09-23 23:23:49 UTC        county  Alabama     Baldwin   \n",
       "2  2020-09-23 23:23:49 UTC        county  Alabama     Barbour   \n",
       "3  2020-09-23 23:23:49 UTC        county  Alabama        Bibb   \n",
       "4  2020-09-23 23:23:49 UTC        county  Alabama      Blount   \n",
       "\n",
       "       county_name_long  fips_code        lat        lon   NCHS_urbanization  \\\n",
       "0  Autauga, Alabama, US     1001.0  32.539527 -86.644082        Medium metro   \n",
       "1  Baldwin, Alabama, US     1003.0  30.727750 -87.722071         Small metro   \n",
       "2  Barbour, Alabama, US     1005.0  31.868263 -85.387129            Non-core   \n",
       "3     Bibb, Alabama, US     1007.0  32.996421 -87.125115  Large fringe metro   \n",
       "4   Blount, Alabama, US     1009.0  33.982109 -86.567906  Large fringe metro   \n",
       "\n",
       "   total_population  confirmed  confirmed_per_100000  deaths  \\\n",
       "0           55200.0       1715               3106.88      25   \n",
       "1          208107.0       5141               2470.36      49   \n",
       "2           25782.0        851               3300.75       7   \n",
       "3           22527.0        638               2832.16      10   \n",
       "4           57645.0       1580               2740.91      15   \n",
       "\n",
       "   deaths_per_100000  \n",
       "0              45.29  \n",
       "1              23.55  \n",
       "2              27.15  \n",
       "3              44.39  \n",
       "4              26.02  "
      ]
     },
     "execution_count": 9,
     "metadata": {},
     "output_type": "execute_result"
    }
   ],
   "source": [
    "covid_data=pd.read_csv(\"1_county_level_confirmed_cases.csv\")\n",
    "covid_data.head()"
   ]
  },
  {
   "cell_type": "code",
   "execution_count": 25,
   "metadata": {},
   "outputs": [
    {
     "name": "stdout",
     "output_type": "stream",
     "text": [
      "1    Baldwin County\n",
      "Name: GEO_NAME, dtype: object\n"
     ]
    }
   ],
   "source": [
    "population_age=pd.read_csv(\"Population_by_Age_and_Sex.csv\")\n",
    "population_age[\"GEO_NAME\"].iloc(0)\n",
    "print(population_age[\"GEO_NAME\"].iloc[[0]])"
   ]
  },
  {
   "cell_type": "code",
   "execution_count": 17,
   "metadata": {},
   "outputs": [
    {
     "data": {
      "text/plain": [
       "0           [Autauga, County]\n",
       "1           [Baldwin, County]\n",
       "2           [Barbour, County]\n",
       "3              [Bibb, County]\n",
       "4            [Blount, County]\n",
       "                ...          \n",
       "3215    [Villalba, Municipio]\n",
       "3216     [Yabucoa, Municipio]\n",
       "3217       [Yauco, Municipio]\n",
       "3218        [Kalawao, County]\n",
       "3219           [King, County]\n",
       "Name: GEO_NAME, Length: 3220, dtype: object"
      ]
     },
     "execution_count": 17,
     "metadata": {},
     "output_type": "execute_result"
    }
   ],
   "source": [
    "population_data.GEO_NAME.str.split(\" \", 1)"
   ]
  },
  {
   "cell_type": "code",
   "execution_count": null,
   "metadata": {},
   "outputs": [],
   "source": [
    "merged_data=pd.merge(covid_data, population_age, left_on=\"county_name\", right_on=\"GEO_NAME\", how=\"left\")\n"
   ]
  }
 ],
 "metadata": {
  "kernelspec": {
   "display_name": "Python [conda env:pythondata] *",
   "language": "python",
   "name": "conda-env-pythondata-py"
  },
  "language_info": {
   "codemirror_mode": {
    "name": "ipython",
    "version": 3
   },
   "file_extension": ".py",
   "mimetype": "text/x-python",
   "name": "python",
   "nbconvert_exporter": "python",
   "pygments_lexer": "ipython3",
   "version": "3.6.10"
  }
 },
 "nbformat": 4,
 "nbformat_minor": 4
}
